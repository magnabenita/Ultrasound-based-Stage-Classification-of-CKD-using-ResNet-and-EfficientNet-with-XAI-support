version https://git-lfs.github.com/spec/v1
oid sha256:6c8988fc4eabc65bebf475eb4c06d91563959e381c6bd9f7fd140066a5f23eed
size 489256
